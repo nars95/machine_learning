{
  "nbformat": 4,
  "nbformat_minor": 0,
  "metadata": {
    "colab": {
      "provenance": [],
      "authorship_tag": "ABX9TyPKoIpMqbBoJqfdEWN9O6TH",
      "include_colab_link": true
    },
    "kernelspec": {
      "name": "python3",
      "display_name": "Python 3"
    },
    "language_info": {
      "name": "python"
    },
    "accelerator": "GPU",
    "gpuClass": "standard"
  },
  "cells": [
    {
      "cell_type": "markdown",
      "metadata": {
        "id": "view-in-github",
        "colab_type": "text"
      },
      "source": [
        "<a href=\"https://colab.research.google.com/github/nars95/machine_learning/blob/main/Ensemble_Learning.ipynb\" target=\"_parent\"><img src=\"https://colab.research.google.com/assets/colab-badge.svg\" alt=\"Open In Colab\"/></a>"
      ]
    },
    {
      "cell_type": "code",
      "execution_count": 1,
      "metadata": {
        "id": "dR0lngrgkwn8"
      },
      "outputs": [],
      "source": [
        "import numpy as np\n",
        "from sklearn.datasets import load_iris, make_moons\n",
        "from sklearn.ensemble import RandomForestClassifier, VotingClassifier\n",
        "from sklearn.linear_model import LogisticRegression\n",
        "from sklearn.svm import SVC\n",
        "import matplotlib.pyplot as plt  \n",
        "from sklearn.metrics import accuracy_score"
      ]
    },
    {
      "cell_type": "code",
      "source": [
        "iris = load_iris()"
      ],
      "metadata": {
        "id": "W3ztsxQTlceZ"
      },
      "execution_count": 2,
      "outputs": []
    },
    {
      "cell_type": "code",
      "source": [
        "iris.keys()"
      ],
      "metadata": {
        "colab": {
          "base_uri": "https://localhost:8080/"
        },
        "id": "hQ87D_4rpXpA",
        "outputId": "f48f767f-d4c1-4443-ad2d-142e3a42eb0b"
      },
      "execution_count": 3,
      "outputs": [
        {
          "output_type": "execute_result",
          "data": {
            "text/plain": [
              "dict_keys(['data', 'target', 'frame', 'target_names', 'DESCR', 'feature_names', 'filename', 'data_module'])"
            ]
          },
          "metadata": {},
          "execution_count": 3
        }
      ]
    },
    {
      "cell_type": "code",
      "source": [
        "X = iris.data[:,:]\n",
        "X.shape\n",
        "y = iris.target\n",
        "print(X.shape, y.shape)"
      ],
      "metadata": {
        "colab": {
          "base_uri": "https://localhost:8080/"
        },
        "id": "9zfoNKZqpZe_",
        "outputId": "05088e94-5e34-4aff-8db3-b58001d2c461"
      },
      "execution_count": 4,
      "outputs": [
        {
          "output_type": "stream",
          "name": "stdout",
          "text": [
            "(150, 4) (150,)\n"
          ]
        }
      ]
    },
    {
      "cell_type": "code",
      "source": [
        "print(X.shape, y.shape)"
      ],
      "metadata": {
        "colab": {
          "base_uri": "https://localhost:8080/"
        },
        "id": "0DoEFR6alrAg",
        "outputId": "cd22ae26-0234-4f2c-b179-1a8d3d4598fb"
      },
      "execution_count": 5,
      "outputs": [
        {
          "output_type": "stream",
          "name": "stdout",
          "text": [
            "(150, 4) (150,)\n"
          ]
        }
      ]
    },
    {
      "cell_type": "markdown",
      "source": [
        "we are 3 classifiers to implement the hard voting using the VotingClassifier from sklearn"
      ],
      "metadata": {
        "id": "2LvwMY4yoJsG"
      }
    },
    {
      "cell_type": "code",
      "source": [
        "log_clf = LogisticRegression()\n",
        "rf_clf = RandomForestClassifier()\n",
        "svm_clf = SVC()"
      ],
      "metadata": {
        "id": "CCVgefyImVqy"
      },
      "execution_count": 6,
      "outputs": []
    },
    {
      "cell_type": "code",
      "source": [
        "voting_clf = VotingClassifier(\n",
        "    estimators = [('lr',log_clf), ('rf', rf_clf), ('svm',svm_clf)],\n",
        "    voting = 'hard'\n",
        ")"
      ],
      "metadata": {
        "id": "rfR-dyLtoI5A"
      },
      "execution_count": 7,
      "outputs": []
    },
    {
      "cell_type": "code",
      "source": [
        "#voting_clf.fit(X, y)"
      ],
      "metadata": {
        "id": "VcTBqK-ko2JY"
      },
      "execution_count": 36,
      "outputs": []
    },
    {
      "cell_type": "markdown",
      "source": [
        "verify the accuracy for each classifier and ensemble classifiers"
      ],
      "metadata": {
        "id": "UkposqqOqg4O"
      }
    },
    {
      "cell_type": "code",
      "source": [
        "'''for clf in (log_clf, rf_clf, svm_clf, voting_clf):\n",
        "  clf.fit(X, y)\n",
        "  y_predict = clf.predict(X)\n",
        "  print(clf.__class__.__name__, accuracy_score(y, y_predict))'''"
      ],
      "metadata": {
        "colab": {
          "base_uri": "https://localhost:8080/",
          "height": 35
        },
        "id": "hoyl3NReqfGG",
        "outputId": "ce554b6b-a58f-4a3c-901e-92b748a28177"
      },
      "execution_count": 37,
      "outputs": [
        {
          "output_type": "execute_result",
          "data": {
            "text/plain": [
              "'for clf in (log_clf, rf_clf, svm_clf, voting_clf):\\n  clf.fit(X, y)\\n  y_predict = clf.predict(X)\\n  print(clf.__class__.__name__, accuracy_score(y, y_predict))'"
            ],
            "application/vnd.google.colaboratory.intrinsic+json": {
              "type": "string"
            }
          },
          "metadata": {},
          "execution_count": 37
        }
      ]
    },
    {
      "cell_type": "markdown",
      "source": [
        "BaggingClassiifer"
      ],
      "metadata": {
        "id": "xVixHLDj4yQB"
      }
    },
    {
      "cell_type": "code",
      "source": [
        "from sklearn.ensemble import BaggingClassifier\n",
        "from sklearn.tree import DecisionTreeClassifier"
      ],
      "metadata": {
        "id": "-nESxFdp4vBg"
      },
      "execution_count": 10,
      "outputs": []
    },
    {
      "cell_type": "code",
      "source": [
        "bag_clf = BaggingClassifier(\n",
        "    DecisionTreeClassifier(), n_estimators = 500,\n",
        "    max_samples = 100, bootstrap =  True, n_jobs  = -1, oob_score= True\n",
        ")\n",
        "bag_clf.fit(X,y)"
      ],
      "metadata": {
        "colab": {
          "base_uri": "https://localhost:8080/"
        },
        "id": "EB7RQ2pJ49m3",
        "outputId": "adcd561f-caff-4f28-f70d-dcb70872214a"
      },
      "execution_count": 11,
      "outputs": [
        {
          "output_type": "execute_result",
          "data": {
            "text/plain": [
              "BaggingClassifier(base_estimator=DecisionTreeClassifier(), max_samples=100,\n",
              "                  n_estimators=500, n_jobs=-1, oob_score=True)"
            ]
          },
          "metadata": {},
          "execution_count": 11
        }
      ]
    },
    {
      "cell_type": "code",
      "source": [
        "bag_clf.oob_score_"
      ],
      "metadata": {
        "colab": {
          "base_uri": "https://localhost:8080/"
        },
        "id": "nRMgnhB95i_H",
        "outputId": "98ae29f1-e546-4be4-8b86-50bc9bfbfc1f"
      },
      "execution_count": 12,
      "outputs": [
        {
          "output_type": "execute_result",
          "data": {
            "text/plain": [
              "0.96"
            ]
          },
          "metadata": {},
          "execution_count": 12
        }
      ]
    },
    {
      "cell_type": "markdown",
      "source": [
        "Random Forest Classifier"
      ],
      "metadata": {
        "id": "1KvaPYEF9zJd"
      }
    },
    {
      "cell_type": "code",
      "source": [
        "from sklearn.ensemble import RandomForestClassifier, ExtraTreesClassifier"
      ],
      "metadata": {
        "id": "EQNK7o7f93BT"
      },
      "execution_count": 13,
      "outputs": []
    },
    {
      "cell_type": "code",
      "source": [
        "rf_classifier = RandomForestClassifier(\n",
        "    n_estimators = 500, max_leaf_nodes = 16, n_jobs = -1, oob_score= True, bootstrap = True\n",
        ")"
      ],
      "metadata": {
        "id": "-t8vqYiw97z1"
      },
      "execution_count": 14,
      "outputs": []
    },
    {
      "cell_type": "code",
      "source": [
        "rf_classifier.fit(X,y)"
      ],
      "metadata": {
        "colab": {
          "base_uri": "https://localhost:8080/"
        },
        "id": "gsPSWZEN-Ra-",
        "outputId": "651d8713-65f6-4a28-e2df-d1ae895aa082"
      },
      "execution_count": 15,
      "outputs": [
        {
          "output_type": "execute_result",
          "data": {
            "text/plain": [
              "RandomForestClassifier(max_leaf_nodes=16, n_estimators=500, n_jobs=-1,\n",
              "                       oob_score=True)"
            ]
          },
          "metadata": {},
          "execution_count": 15
        }
      ]
    },
    {
      "cell_type": "code",
      "source": [
        "rf_classifier.oob_score_"
      ],
      "metadata": {
        "colab": {
          "base_uri": "https://localhost:8080/"
        },
        "id": "3YgP2xyr-bsh",
        "outputId": "5f4e04aa-89ea-4c5f-8472-2da842084d7c"
      },
      "execution_count": 16,
      "outputs": [
        {
          "output_type": "execute_result",
          "data": {
            "text/plain": [
              "0.96"
            ]
          },
          "metadata": {},
          "execution_count": 16
        }
      ]
    },
    {
      "cell_type": "markdown",
      "source": [
        "ExtraTreeClassifier"
      ],
      "metadata": {
        "id": "L3Fjk-xx_LCv"
      }
    },
    {
      "cell_type": "code",
      "source": [
        "extra_tree_clf = ExtraTreesClassifier(\n",
        "    n_estimators = 500, max_leaf_nodes = 16, n_jobs = -1, oob_score = True, bootstrap = True\n",
        ")"
      ],
      "metadata": {
        "id": "M8AIpphf_NOl"
      },
      "execution_count": 17,
      "outputs": []
    },
    {
      "cell_type": "code",
      "source": [
        "extra_tree_clf.fit(X, y)\n",
        "extra_tree_clf.oob_score_"
      ],
      "metadata": {
        "colab": {
          "base_uri": "https://localhost:8080/"
        },
        "id": "xAZctb-S_nhI",
        "outputId": "6d199686-4ab9-44c5-f251-305d26816f5b"
      },
      "execution_count": 18,
      "outputs": [
        {
          "output_type": "execute_result",
          "data": {
            "text/plain": [
              "0.9533333333333334"
            ]
          },
          "metadata": {},
          "execution_count": 18
        }
      ]
    },
    {
      "cell_type": "markdown",
      "source": [
        "analysing the feature importances"
      ],
      "metadata": {
        "id": "0MSM-_hABTG5"
      }
    },
    {
      "cell_type": "code",
      "source": [
        "random_forest = RandomForestClassifier(n_estimators= 500, n_jobs = -1)\n",
        "random_forest.fit(X, y)"
      ],
      "metadata": {
        "colab": {
          "base_uri": "https://localhost:8080/"
        },
        "id": "y94MzM81AVWj",
        "outputId": "3a3152c7-a933-423c-bb76-ed31db87e2af"
      },
      "execution_count": 19,
      "outputs": [
        {
          "output_type": "execute_result",
          "data": {
            "text/plain": [
              "RandomForestClassifier(n_estimators=500, n_jobs=-1)"
            ]
          },
          "metadata": {},
          "execution_count": 19
        }
      ]
    },
    {
      "cell_type": "code",
      "source": [
        "for name, score in zip(iris['feature_names'], random_forest.feature_importances_):\n",
        "  print(name, score)"
      ],
      "metadata": {
        "colab": {
          "base_uri": "https://localhost:8080/"
        },
        "id": "Y4rPCp8PBl0Z",
        "outputId": "b86d17e5-fd02-4696-e9c5-84fb3627c4e9"
      },
      "execution_count": 20,
      "outputs": [
        {
          "output_type": "stream",
          "name": "stdout",
          "text": [
            "sepal length (cm) 0.08953819387975058\n",
            "sepal width (cm) 0.023089304092158414\n",
            "petal length (cm) 0.44044073632730724\n",
            "petal width (cm) 0.44693176570078386\n"
          ]
        }
      ]
    },
    {
      "cell_type": "markdown",
      "source": [
        "how can we see previously, the best features are: \n",
        "petal length and width"
      ],
      "metadata": {
        "id": "SpaBassdDOar"
      }
    },
    {
      "cell_type": "code",
      "source": [
        "from sklearn.ensemble import AdaBoostClassifier"
      ],
      "metadata": {
        "id": "_DAW-DeeC0Wl"
      },
      "execution_count": 21,
      "outputs": []
    },
    {
      "cell_type": "code",
      "source": [
        "ada_boost_clf = AdaBoostClassifier(\n",
        "    DecisionTreeClassifier(max_depth = 1), n_estimators = 200,\n",
        "    algorithm= 'SAMME.R', learning_rate = 0.5, \n",
        ")\n",
        "# decision stumby\n",
        "ada_boost_clf.fit(X, y)"
      ],
      "metadata": {
        "colab": {
          "base_uri": "https://localhost:8080/"
        },
        "id": "927gbuCNHhcg",
        "outputId": "cca677ae-7545-4815-a475-084f925adaee"
      },
      "execution_count": 22,
      "outputs": [
        {
          "output_type": "execute_result",
          "data": {
            "text/plain": [
              "AdaBoostClassifier(base_estimator=DecisionTreeClassifier(max_depth=1),\n",
              "                   learning_rate=0.5, n_estimators=200)"
            ]
          },
          "metadata": {},
          "execution_count": 22
        }
      ]
    },
    {
      "cell_type": "code",
      "source": [
        "accuracy_score(y, ada_boost_clf.predict(X))"
      ],
      "metadata": {
        "colab": {
          "base_uri": "https://localhost:8080/"
        },
        "id": "X1SKGq61IC63",
        "outputId": "cc06e027-fd46-46ec-d5bf-564ce0740e4e"
      },
      "execution_count": 23,
      "outputs": [
        {
          "output_type": "execute_result",
          "data": {
            "text/plain": [
              "0.9266666666666666"
            ]
          },
          "metadata": {},
          "execution_count": 23
        }
      ]
    },
    {
      "cell_type": "markdown",
      "source": [
        "usging another way of boosting named Gradiente Bosting:\n",
        "insted of update weight, it this algotithm use residuals erros."
      ],
      "metadata": {
        "id": "RfWHZgW1bIJP"
      }
    },
    {
      "cell_type": "code",
      "source": [
        "from sklearn.tree import DecisionTreeClassifier"
      ],
      "metadata": {
        "id": "vNqeDfmtb7xs"
      },
      "execution_count": 24,
      "outputs": []
    },
    {
      "cell_type": "code",
      "source": [
        "tree_reg1 = DecisionTreeClassifier(max_depth = 2)\n",
        "tree_reg1.fit(X, y)\n",
        "residuals1 = y - tree_reg1.predict(X)"
      ],
      "metadata": {
        "id": "mVLGczqJcA2y"
      },
      "execution_count": 25,
      "outputs": []
    },
    {
      "cell_type": "code",
      "source": [
        "tree_reg2 = DecisionTreeClassifier( max_depth = 2)\n",
        "tree_reg2.fit(X, residuals1)\n",
        "residuals2 = residuals1 - tree_reg2.predict(X)"
      ],
      "metadata": {
        "id": "WWjcsaYsclhf"
      },
      "execution_count": 27,
      "outputs": []
    },
    {
      "cell_type": "code",
      "source": [
        "tree_reg3 = DecisionTreeClassifier(max_depth =2)\n",
        "tree_reg3.fit(X, residuals2)"
      ],
      "metadata": {
        "colab": {
          "base_uri": "https://localhost:8080/"
        },
        "id": "7_-x4wxidGc9",
        "outputId": "7c3263a2-19da-4773-e8b9-61d2c763c384"
      },
      "execution_count": 29,
      "outputs": [
        {
          "output_type": "execute_result",
          "data": {
            "text/plain": [
              "DecisionTreeClassifier(max_depth=2)"
            ]
          },
          "metadata": {},
          "execution_count": 29
        }
      ]
    },
    {
      "cell_type": "code",
      "source": [
        "predict = sum( tree.predict(X) for tree in (tree_reg1, tree_reg2, tree_reg3))"
      ],
      "metadata": {
        "id": "Z-Eg3f0EdnEI"
      },
      "execution_count": 31,
      "outputs": []
    },
    {
      "cell_type": "code",
      "source": [
        "accuracy_score(y, predict)"
      ],
      "metadata": {
        "colab": {
          "base_uri": "https://localhost:8080/"
        },
        "id": "eYjt9EaQibST",
        "outputId": "35afd505-e93b-4c3b-e8a8-b178c95cd187"
      },
      "execution_count": 32,
      "outputs": [
        {
          "output_type": "execute_result",
          "data": {
            "text/plain": [
              "0.9666666666666667"
            ]
          },
          "metadata": {},
          "execution_count": 32
        }
      ]
    },
    {
      "cell_type": "markdown",
      "source": [
        "implement using sklearn"
      ],
      "metadata": {
        "id": "HsOpw9PMh90O"
      }
    },
    {
      "cell_type": "code",
      "source": [
        "from sklearn.ensemble import GradientBoostingClassifier"
      ],
      "metadata": {
        "id": "c8CdFR26h830"
      },
      "execution_count": 33,
      "outputs": []
    },
    {
      "cell_type": "code",
      "source": [
        "gbct = GradientBoostingClassifier( max_depth = 2, n_estimators = 3, learning_rate = 1.0)\n",
        "gbct.fit(X,y)\n",
        "accuracy_score(y, gbct.predict(X))"
      ],
      "metadata": {
        "colab": {
          "base_uri": "https://localhost:8080/"
        },
        "id": "v8PrnKtdnJSA",
        "outputId": "5cdc84d7-3b87-4b57-aebb-557af1b0233d"
      },
      "execution_count": 35,
      "outputs": [
        {
          "output_type": "execute_result",
          "data": {
            "text/plain": [
              "0.9933333333333333"
            ]
          },
          "metadata": {},
          "execution_count": 35
        }
      ]
    }
  ]
}