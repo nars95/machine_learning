{
  "cells": [
    {
      "cell_type": "markdown",
      "metadata": {
        "id": "view-in-github",
        "colab_type": "text"
      },
      "source": [
        "<a href=\"https://colab.research.google.com/github/nars95/machine_learning/blob/main/classification_minist.ipynb\" target=\"_parent\"><img src=\"https://colab.research.google.com/assets/colab-badge.svg\" alt=\"Open In Colab\"/></a>"
      ]
    },
    {
      "cell_type": "code",
      "execution_count": 1,
      "metadata": {
        "id": "Ff-j8RI34QJm"
      },
      "outputs": [],
      "source": [
        "from sklearn.datasets import fetch_openml\n",
        "import numpy as np\n",
        "import matplotlib.pyplot as plt\n",
        "import matplotlib as mpl"
      ]
    },
    {
      "cell_type": "code",
      "execution_count": 2,
      "metadata": {
        "id": "qPOpzBDu4s0h"
      },
      "outputs": [],
      "source": [
        "mnist = fetch_openml('mnist_784', version =1,  as_frame = False)"
      ]
    },
    {
      "cell_type": "code",
      "execution_count": 3,
      "metadata": {
        "colab": {
          "base_uri": "https://localhost:8080/"
        },
        "id": "XOV5bMpc40bI",
        "outputId": "02f064ef-7353-46ed-915b-db5e55e05c3a"
      },
      "outputs": [
        {
          "output_type": "execute_result",
          "data": {
            "text/plain": [
              "sklearn.utils.Bunch"
            ]
          },
          "metadata": {},
          "execution_count": 3
        }
      ],
      "source": [
        "type(mnist)"
      ]
    },
    {
      "cell_type": "code",
      "execution_count": 4,
      "metadata": {
        "colab": {
          "base_uri": "https://localhost:8080/"
        },
        "id": "5DX8yRHj51B-",
        "outputId": "919d90c9-6dd9-499c-f18b-745883cf339d"
      },
      "outputs": [
        {
          "output_type": "execute_result",
          "data": {
            "text/plain": [
              "dict_keys(['data', 'target', 'frame', 'categories', 'feature_names', 'target_names', 'DESCR', 'details', 'url'])"
            ]
          },
          "metadata": {},
          "execution_count": 4
        }
      ],
      "source": [
        "mnist.keys()"
      ]
    },
    {
      "cell_type": "markdown",
      "metadata": {
        "id": "noAQwGgl8OC6"
      },
      "source": [
        "os dados mnist já estão seprados aleatoriamente em treino e teste.\n",
        "As primeiras 60000 instâncias são reservadas para treino, enquanto as restantes para teste."
      ]
    },
    {
      "cell_type": "code",
      "execution_count": 5,
      "metadata": {
        "id": "_God2wTN56fh"
      },
      "outputs": [],
      "source": [
        "data, labels = mnist['data'], mnist['target']"
      ]
    },
    {
      "cell_type": "code",
      "execution_count": 6,
      "metadata": {
        "colab": {
          "base_uri": "https://localhost:8080/",
          "height": 35
        },
        "id": "H6ZFEchL9XbA",
        "outputId": "5883be22-4c5c-4d7c-c05b-0dc78202e2df"
      },
      "outputs": [
        {
          "output_type": "execute_result",
          "data": {
            "text/plain": [
              "'5'"
            ],
            "application/vnd.google.colaboratory.intrinsic+json": {
              "type": "string"
            }
          },
          "metadata": {},
          "execution_count": 6
        }
      ],
      "source": [
        "labels[0]"
      ]
    },
    {
      "cell_type": "code",
      "execution_count": 7,
      "metadata": {
        "id": "GT8xlFh09q8_"
      },
      "outputs": [],
      "source": [
        "labels = labels.astype(np.uint8) # convertendo de string para unsigned int"
      ]
    },
    {
      "cell_type": "code",
      "execution_count": 8,
      "metadata": {
        "colab": {
          "base_uri": "https://localhost:8080/"
        },
        "id": "YDckazNj9zgb",
        "outputId": "deb73f18-3912-49a8-ad3d-a04960b07c2d"
      },
      "outputs": [
        {
          "output_type": "execute_result",
          "data": {
            "text/plain": [
              "5"
            ]
          },
          "metadata": {},
          "execution_count": 8
        }
      ],
      "source": [
        "labels[0]"
      ]
    },
    {
      "cell_type": "code",
      "execution_count": 9,
      "metadata": {
        "id": "YUEfY9Aw-Aps"
      },
      "outputs": [],
      "source": [
        "some_digit = data[0]"
      ]
    },
    {
      "cell_type": "code",
      "execution_count": 10,
      "metadata": {
        "id": "wVgjIZBo7oN9"
      },
      "outputs": [],
      "source": [
        "X_train, X_test, y_train, y_test = data[:60000], data[60000:], labels[:60000], labels[60000:]"
      ]
    },
    {
      "cell_type": "code",
      "execution_count": 11,
      "metadata": {
        "colab": {
          "base_uri": "https://localhost:8080/"
        },
        "id": "E4gYBITq8DFx",
        "outputId": "2f00f037-e58d-428f-ed43-d614070bb491"
      },
      "outputs": [
        {
          "output_type": "stream",
          "name": "stdout",
          "text": [
            "(60000, 784) (10000, 784) (60000,) (10000,)\n"
          ]
        }
      ],
      "source": [
        "print(X_train.shape, X_test.shape, y_train.shape, y_test.shape)"
      ]
    },
    {
      "cell_type": "code",
      "execution_count": null,
      "metadata": {
        "id": "wEpgzDjq8cuK"
      },
      "outputs": [],
      "source": [
        "from sklearn.svm import SVC"
      ]
    },
    {
      "cell_type": "markdown",
      "metadata": {
        "id": "bsNr9DqvCoQW"
      },
      "source": [
        "As máquinas de vetores de suporte são estritamente classificadores binários.\n",
        "Todavia, o sklearn SVC implementa a classificação multiclasse ou multinomiais por meio da técnica One-versus-One(OvO). Para n classes, serão treinados n(n-1)/2 classificadores. Nesse caso, serão treinados 45 classificadores, obteve os scores de decisão e selecionou o maior score, tal como vemos abaixo:"
      ]
    },
    {
      "cell_type": "code",
      "execution_count": null,
      "metadata": {
        "colab": {
          "base_uri": "https://localhost:8080/"
        },
        "id": "eEXVhcZy-IBP",
        "outputId": "ffe87eb8-67f5-4f73-dbbc-0aafd26d39ee"
      },
      "outputs": [
        {
          "data": {
            "text/plain": [
              "SVC()"
            ]
          },
          "execution_count": 47,
          "metadata": {},
          "output_type": "execute_result"
        }
      ],
      "source": [
        "svm_classifier = SVC()\n",
        "svm_classifier.fit(X_train,y_train)"
      ]
    },
    {
      "cell_type": "code",
      "execution_count": null,
      "metadata": {
        "colab": {
          "base_uri": "https://localhost:8080/"
        },
        "id": "TFCUJBLkByLy",
        "outputId": "af123686-f6d0-4953-895c-48193c39ce15"
      },
      "outputs": [
        {
          "data": {
            "text/plain": [
              "['svm_model.pkl']"
            ]
          },
          "execution_count": 48,
          "metadata": {},
          "output_type": "execute_result"
        }
      ],
      "source": [
        "#salvando o modelo\n",
        "import joblib\n",
        "joblib.dump(svm_classifier,\"svm_model.pkl\")"
      ]
    },
    {
      "cell_type": "code",
      "execution_count": null,
      "metadata": {
        "colab": {
          "base_uri": "https://localhost:8080/"
        },
        "id": "uve8-Sux-UDf",
        "outputId": "e25790da-b404-4667-8fab-66e7388ae60f"
      },
      "outputs": [
        {
          "data": {
            "text/plain": [
              "array([5], dtype=uint8)"
            ]
          },
          "execution_count": 49,
          "metadata": {},
          "output_type": "execute_result"
        }
      ],
      "source": [
        "svm_classifier.predict([some_digit])"
      ]
    },
    {
      "cell_type": "code",
      "execution_count": null,
      "metadata": {
        "colab": {
          "base_uri": "https://localhost:8080/"
        },
        "id": "GSuOLgvhAiCz",
        "outputId": "2b210046-32af-42e0-a700-628668656504"
      },
      "outputs": [
        {
          "data": {
            "text/plain": [
              "array([[ 1.72501977,  2.72809088,  7.2510018 ,  8.3076379 , -0.31087254,\n",
              "         9.3132482 ,  1.70975103,  2.76765202,  6.23049537,  4.84771048]])"
            ]
          },
          "execution_count": 50,
          "metadata": {},
          "output_type": "execute_result"
        }
      ],
      "source": [
        "svm_scores = svm_classifier.decision_function([some_digit])\n",
        "svm_scores"
      ]
    },
    {
      "cell_type": "code",
      "execution_count": null,
      "metadata": {
        "colab": {
          "base_uri": "https://localhost:8080/"
        },
        "id": "wfLUlWa1DleH",
        "outputId": "1ce89f17-c713-4841-f1b1-d4f85e66cbbd"
      },
      "outputs": [
        {
          "data": {
            "text/plain": [
              "5"
            ]
          },
          "execution_count": 51,
          "metadata": {},
          "output_type": "execute_result"
        }
      ],
      "source": [
        "np.argmax(svm_scores)"
      ]
    },
    {
      "cell_type": "code",
      "execution_count": null,
      "metadata": {
        "colab": {
          "base_uri": "https://localhost:8080/"
        },
        "id": "ZxCuIKHfDwg7",
        "outputId": "419d29bc-01cd-4afb-8650-a647b382088f"
      },
      "outputs": [
        {
          "data": {
            "text/plain": [
              "3"
            ]
          },
          "execution_count": 52,
          "metadata": {},
          "output_type": "execute_result"
        }
      ],
      "source": [
        "lista = [10,20,30,50]\n",
        "np.argmax(lista)"
      ]
    },
    {
      "cell_type": "code",
      "execution_count": null,
      "metadata": {
        "colab": {
          "base_uri": "https://localhost:8080/"
        },
        "id": "PVUdW7gHEBOz",
        "outputId": "40fb1745-5962-4e60-8498-1981a24f9d0d"
      },
      "outputs": [
        {
          "data": {
            "text/plain": [
              "array([0, 1, 2, 3, 4, 5, 6, 7, 8, 9], dtype=uint8)"
            ]
          },
          "execution_count": 53,
          "metadata": {},
          "output_type": "execute_result"
        }
      ],
      "source": [
        "svm_classifier.classes_"
      ]
    },
    {
      "cell_type": "markdown",
      "metadata": {
        "id": "x1_P01StEvda"
      },
      "source": [
        "É possível escolher estratégia que deve ser implementada: one-versus-one\n",
        "ou one-versus-the-rest. O código abaixo mostra esse procedimento"
      ]
    },
    {
      "cell_type": "code",
      "execution_count": null,
      "metadata": {
        "id": "Lk4UkY6mEHty"
      },
      "outputs": [],
      "source": [
        "from sklearn.multiclass import OneVsRestClassifier"
      ]
    },
    {
      "cell_type": "code",
      "execution_count": null,
      "metadata": {
        "colab": {
          "background_save": true
        },
        "id": "7NvT6-DhGDTG",
        "outputId": "3a3ad115-c0b5-4294-ddad-cc78cab86045"
      },
      "outputs": [
        {
          "data": {
            "text/plain": [
              "array([5], dtype=uint8)"
            ]
          },
          "execution_count": 55,
          "metadata": {},
          "output_type": "execute_result"
        }
      ],
      "source": [
        "one_vs_rest_clf = OneVsRestClassifier(SVC())\n",
        "one_vs_rest_clf.fit(X_train, y_train)\n",
        "one_vs_rest_clf.predict([some_digit])"
      ]
    },
    {
      "cell_type": "code",
      "execution_count": null,
      "metadata": {
        "colab": {
          "background_save": true
        },
        "id": "uWc5c79QI7no",
        "outputId": "8d8551b1-8750-4793-d260-4cf2b2558709"
      },
      "outputs": [
        {
          "data": {
            "text/plain": [
              "[SVC(), SVC(), SVC(), SVC(), SVC(), SVC(), SVC(), SVC(), SVC(), SVC()]"
            ]
          },
          "execution_count": 56,
          "metadata": {},
          "output_type": "execute_result"
        }
      ],
      "source": [
        "one_vs_rest_clf.estimators_"
      ]
    },
    {
      "cell_type": "code",
      "execution_count": null,
      "metadata": {
        "colab": {
          "background_save": true
        },
        "id": "92hvhgn2JKXB",
        "outputId": "6e6c9be4-c32d-4786-c754-a9c27a7d64c2"
      },
      "outputs": [
        {
          "data": {
            "text/plain": [
              "10"
            ]
          },
          "execution_count": 57,
          "metadata": {},
          "output_type": "execute_result"
        }
      ],
      "source": [
        "len(one_vs_rest_clf.estimators_)"
      ]
    },
    {
      "cell_type": "markdown",
      "source": [
        "Analisando o SGDClassifier"
      ],
      "metadata": {
        "id": "4KwnnRkBt0X3"
      }
    },
    {
      "cell_type": "code",
      "source": [
        "from sklearn.linear_model import SGDClassifier"
      ],
      "metadata": {
        "id": "GOpKo4Cptzhb"
      },
      "execution_count": 13,
      "outputs": []
    },
    {
      "cell_type": "code",
      "source": [
        "sgd_clf = SGDClassifier(random_state= 42)"
      ],
      "metadata": {
        "id": "otGcCBk7uWoZ"
      },
      "execution_count": 15,
      "outputs": []
    },
    {
      "cell_type": "code",
      "source": [
        "sgd_clf.fit(X_train,y_train)"
      ],
      "metadata": {
        "colab": {
          "base_uri": "https://localhost:8080/"
        },
        "id": "GWOuwqWCuc5i",
        "outputId": "9a33de84-cbc3-47c7-a044-c42ba49509b1"
      },
      "execution_count": 17,
      "outputs": [
        {
          "output_type": "execute_result",
          "data": {
            "text/plain": [
              "SGDClassifier(random_state=42)"
            ]
          },
          "metadata": {},
          "execution_count": 17
        }
      ]
    },
    {
      "cell_type": "code",
      "source": [
        "sgd_clf.predict([some_digit]) # o modelo errou: deu um alto score para o número 3 como vemos na célula abaixo"
      ],
      "metadata": {
        "colab": {
          "base_uri": "https://localhost:8080/"
        },
        "id": "JpmCI7H3ul2M",
        "outputId": "55235c2e-59df-4eee-f235-6e7e01e2088c"
      },
      "execution_count": 18,
      "outputs": [
        {
          "output_type": "execute_result",
          "data": {
            "text/plain": [
              "array([3], dtype=uint8)"
            ]
          },
          "metadata": {},
          "execution_count": 18
        }
      ]
    },
    {
      "cell_type": "code",
      "source": [
        "sgd_clf.decision_function([some_digit])"
      ],
      "metadata": {
        "colab": {
          "base_uri": "https://localhost:8080/"
        },
        "id": "8s1gjgkwv78u",
        "outputId": "afc866c1-9254-4fca-f6f8-82b5eadc82b3"
      },
      "execution_count": 20,
      "outputs": [
        {
          "output_type": "execute_result",
          "data": {
            "text/plain": [
              "array([[-31893.03095419, -34419.69069632,  -9530.63950739,\n",
              "          1823.73154031, -22320.14822878,  -1385.80478895,\n",
              "        -26188.91070951, -16147.51323997,  -4604.35491274,\n",
              "        -12050.767298  ]])"
            ]
          },
          "metadata": {},
          "execution_count": 20
        }
      ]
    },
    {
      "cell_type": "code",
      "source": [
        "from sklearn.model_selection import cross_val_score, cross_val_predict\n",
        "from sklearn.metrics import confusion_matrix"
      ],
      "metadata": {
        "id": "zNLaVKWkwcL-"
      },
      "execution_count": 34,
      "outputs": []
    },
    {
      "cell_type": "code",
      "source": [
        "cross_val_score(sgd_clf, X_train, y_train, cv = 3, scoring = \"accuracy\")"
      ],
      "metadata": {
        "colab": {
          "base_uri": "https://localhost:8080/"
        },
        "id": "PPcGIPVlwlSS",
        "outputId": "b2f3e05e-47ff-4b75-ccb9-5e7fc460724b"
      },
      "execution_count": 22,
      "outputs": [
        {
          "output_type": "execute_result",
          "data": {
            "text/plain": [
              "array([0.87365, 0.85835, 0.8689 ])"
            ]
          },
          "metadata": {},
          "execution_count": 22
        }
      ]
    },
    {
      "cell_type": "markdown",
      "source": [
        "o classificador obteve um bom desempenho. Mas ainda é possível melhorá-lo por meio do escolanamento ou padronização dos dados."
      ],
      "metadata": {
        "id": "RlL1UmqoyIV8"
      }
    },
    {
      "cell_type": "code",
      "source": [
        "from sklearn.preprocessing import StandardScaler"
      ],
      "metadata": {
        "id": "4nIfPJ3Swldi"
      },
      "execution_count": 23,
      "outputs": []
    },
    {
      "cell_type": "code",
      "source": [
        "scaler = StandardScaler()\n",
        "X_train_scaler = scaler.fit_transform(X_train.astype(np.float64))"
      ],
      "metadata": {
        "id": "SthupC1wyYwf"
      },
      "execution_count": 26,
      "outputs": []
    },
    {
      "cell_type": "code",
      "source": [
        "cross_val_score(sgd_clf, X_train_scaler, y_train, cv = 3 , scoring = \"accuracy\") # as métricas melhoraram com o escalonamento"
      ],
      "metadata": {
        "colab": {
          "base_uri": "https://localhost:8080/"
        },
        "id": "bx8mxgKQypTN",
        "outputId": "3721ef20-73ef-452a-9066-7eca4f281f50"
      },
      "execution_count": 28,
      "outputs": [
        {
          "output_type": "execute_result",
          "data": {
            "text/plain": [
              "array([0.8983, 0.891 , 0.9018])"
            ]
          },
          "metadata": {},
          "execution_count": 28
        }
      ]
    },
    {
      "cell_type": "code",
      "source": [
        "sgd_predict = cross_val_predict(sgd_clf, X_train_scaler, y_train, cv = 3)"
      ],
      "metadata": {
        "id": "7xMC8iOz22ru"
      },
      "execution_count": 30,
      "outputs": []
    },
    {
      "cell_type": "code",
      "source": [
        "cm = confusion_matrix(y_train, sgd_predict)"
      ],
      "metadata": {
        "id": "yRd0dett6zxJ"
      },
      "execution_count": 35,
      "outputs": []
    },
    {
      "cell_type": "code",
      "source": [
        "cm"
      ],
      "metadata": {
        "colab": {
          "base_uri": "https://localhost:8080/"
        },
        "id": "IzBzvtM470M9",
        "outputId": "3865efcc-3f84-4f98-a94b-df90055286a7"
      },
      "execution_count": 37,
      "outputs": [
        {
          "output_type": "execute_result",
          "data": {
            "text/plain": [
              "array([[5577,    0,   22,    5,    8,   43,   36,    6,  225,    1],\n",
              "       [   0, 6400,   37,   24,    4,   44,    4,    7,  212,   10],\n",
              "       [  27,   27, 5220,   92,   73,   27,   67,   36,  378,   11],\n",
              "       [  22,   17,  117, 5227,    2,  203,   27,   40,  403,   73],\n",
              "       [  12,   14,   41,    9, 5182,   12,   34,   27,  347,  164],\n",
              "       [  27,   15,   30,  168,   53, 4444,   75,   14,  535,   60],\n",
              "       [  30,   15,   42,    3,   44,   97, 5552,    3,  131,    1],\n",
              "       [  21,   10,   51,   30,   49,   12,    3, 5684,  195,  210],\n",
              "       [  17,   63,   48,   86,    3,  126,   25,   10, 5429,   44],\n",
              "       [  25,   18,   30,   64,  118,   36,    1,  179,  371, 5107]])"
            ]
          },
          "metadata": {},
          "execution_count": 37
        }
      ]
    },
    {
      "cell_type": "code",
      "source": [
        "plt.matshow(cm, cmap = plt.cm.gray)"
      ],
      "metadata": {
        "colab": {
          "base_uri": "https://localhost:8080/",
          "height": 292
        },
        "id": "YFNqksCJ70TC",
        "outputId": "37c08c36-b404-470f-eab6-ae67675f0c10"
      },
      "execution_count": 38,
      "outputs": [
        {
          "output_type": "execute_result",
          "data": {
            "text/plain": [
              "<matplotlib.image.AxesImage at 0x7f984c93eee0>"
            ]
          },
          "metadata": {},
          "execution_count": 38
        },
        {
          "output_type": "display_data",
          "data": {
            "text/plain": [
              "<Figure size 288x288 with 1 Axes>"
            ],
            "image/png": "[encoded data removed]"
          },
          "metadata": {
            "needs_background": "light"
          }
        }
      ]
    },
    {
      "cell_type": "code",
      "source": [
        "rows_sums = cm.sum(axis = 1, keepdims = True)\n",
        "rows_sums"
      ],
      "metadata": {
        "colab": {
          "base_uri": "https://localhost:8080/"
        },
        "id": "hY-jlko_8N7c",
        "outputId": "1de9851e-97ac-430c-b75a-16128414b420"
      },
      "execution_count": 39,
      "outputs": [
        {
          "output_type": "execute_result",
          "data": {
            "text/plain": [
              "array([[5923],\n",
              "       [6742],\n",
              "       [5958],\n",
              "       [6131],\n",
              "       [5842],\n",
              "       [5421],\n",
              "       [5918],\n",
              "       [6265],\n",
              "       [5851],\n",
              "       [5949]])"
            ]
          },
          "metadata": {},
          "execution_count": 39
        }
      ]
    },
    {
      "cell_type": "code",
      "source": [
        "norm_conf_matrix = cm/ rows_sums\n",
        "np.fill_diagonal(norm_conf_matrix, 0) "
      ],
      "metadata": {
        "id": "XmwGbhZ09FoB"
      },
      "execution_count": 42,
      "outputs": []
    },
    {
      "cell_type": "markdown",
      "source": [
        "é notório pela matrix abaixo que muitas classes foram classificadad como número 8. O número cinco foi confundido com número 3. Isso pode ser visto pela cor mais clara."
      ],
      "metadata": {
        "id": "OTx5sQ1R-4MK"
      }
    },
    {
      "cell_type": "code",
      "source": [
        "plt.matshow(norm_conf_matrix, cmap = plt.cm.gray)"
      ],
      "metadata": {
        "colab": {
          "base_uri": "https://localhost:8080/",
          "height": 292
        },
        "id": "Cy_PrLeh9QI3",
        "outputId": "919fa691-1fed-48fc-911c-680fadd7ee32"
      },
      "execution_count": 43,
      "outputs": [
        {
          "output_type": "execute_result",
          "data": {
            "text/plain": [
              "<matplotlib.image.AxesImage at 0x7f984c457e80>"
            ]
          },
          "metadata": {},
          "execution_count": 43
        },
        {
          "output_type": "display_data",
          "data": {
            "text/plain": [
              "<Figure size 288x288 with 1 Axes>"
            ],
            "image/png": "[encoded data removed]"
          },
          "metadata": {
            "needs_background": "light"
          }
        }
      ]
    },
    {
      "cell_type": "code",
      "source": [],
      "metadata": {
        "id": "QPch1QGr-UoU"
      },
      "execution_count": null,
      "outputs": []
    }
  ],
  "metadata": {
    "colab": {
      "provenance": [],
      "authorship_tag": "ABX9TyNcOf0G5BEPYpr+N3Gc/HwC",
      "include_colab_link": true
    },
    "kernelspec": {
      "display_name": "Python 3",
      "name": "python3"
    },
    "language_info": {
      "name": "python"
    }
  },
  "nbformat": 4,
  "nbformat_minor": 0
}