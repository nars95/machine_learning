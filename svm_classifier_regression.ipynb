{
  "nbformat": 4,
  "nbformat_minor": 0,
  "metadata": {
    "colab": {
      "provenance": [],
      "authorship_tag": "ABX9TyNdpVsmDVbhsjaIaxtmZAag",
      "include_colab_link": true
    },
    "kernelspec": {
      "name": "python3",
      "display_name": "Python 3"
    },
    "language_info": {
      "name": "python"
    },
    "accelerator": "GPU",
    "gpuClass": "standard"
  },
  "cells": [
    {
      "cell_type": "markdown",
      "metadata": {
        "id": "view-in-github",
        "colab_type": "text"
      },
      "source": [
        "<a href=\"https://colab.research.google.com/github/nars95/machine_learning/blob/main/svm_classifier_regression.ipynb\" target=\"_parent\"><img src=\"https://colab.research.google.com/assets/colab-badge.svg\" alt=\"Open In Colab\"/></a>"
      ]
    },
    {
      "cell_type": "markdown",
      "source": [
        "# Nestes experimentos vamos usar alguns toy dataset, como iris e moons \n",
        "Importando as principaias bibliotecas e o dataset que será usado nestes experimentos"
      ],
      "metadata": {
        "id": "LozjMay0TWeU"
      }
    },
    {
      "cell_type": "code",
      "execution_count": 1,
      "metadata": {
        "id": "ke9CnzzRS9mQ"
      },
      "outputs": [],
      "source": [
        "from pandas.core.computation import scope\n",
        "from sklearn.datasets import load_iris\n",
        "from sklearn.pipeline import Pipeline\n",
        "from sklearn.preprocessing import StandardScaler\n",
        "from sklearn.svm import LinearSVC\n",
        "from sklearn.metrics import accuracy_score\n",
        "import numpy as np"
      ]
    },
    {
      "cell_type": "markdown",
      "source": [
        "rápida inspeção dos dados"
      ],
      "metadata": {
        "id": "tBFAlHlGTvFK"
      }
    },
    {
      "cell_type": "code",
      "source": [
        "iris = load_iris()\n",
        "iris.keys()"
      ],
      "metadata": {
        "colab": {
          "base_uri": "https://localhost:8080/"
        },
        "id": "AfzbwuaBTVmd",
        "outputId": "2dc00347-b9b9-408c-dbf7-33555621e0a5"
      },
      "execution_count": 2,
      "outputs": [
        {
          "output_type": "execute_result",
          "data": {
            "text/plain": [
              "dict_keys(['data', 'target', 'frame', 'target_names', 'DESCR', 'feature_names', 'filename', 'data_module'])"
            ]
          },
          "metadata": {},
          "execution_count": 2
        }
      ]
    },
    {
      "cell_type": "code",
      "source": [
        "print(iris['data'].shape, iris['target_names'],iris['feature_names'] )"
      ],
      "metadata": {
        "colab": {
          "base_uri": "https://localhost:8080/"
        },
        "id": "yrIKiGPcTzak",
        "outputId": "f71386ef-17df-4c29-a7a2-294ea9d8d0ac"
      },
      "execution_count": 3,
      "outputs": [
        {
          "output_type": "stream",
          "name": "stdout",
          "text": [
            "(150, 4) ['setosa' 'versicolor' 'virginica'] ['sepal length (cm)', 'sepal width (cm)', 'petal length (cm)', 'petal width (cm)']\n"
          ]
        }
      ]
    },
    {
      "cell_type": "markdown",
      "source": [
        "# preparação dos dados iris\n",
        "Observe que neste preimeiro momento ainda não fizemos a separação dos \n",
        "dados de treino, teste e validação.\n",
        "svm kernel = linear\n"
      ],
      "metadata": {
        "id": "S2eB63WdVi1m"
      }
    },
    {
      "cell_type": "code",
      "source": [
        "X = iris['data'][:, (2,3)] # selecionando apenas o comprimento e largura da pétala\n",
        "y =  (iris['target'] == 2).astype(int) # apenas versicolor "
      ],
      "metadata": {
        "id": "cejW8ZMcUP-E"
      },
      "execution_count": 4,
      "outputs": []
    },
    {
      "cell_type": "code",
      "source": [
        "svm_clf = Pipeline([\n",
        "    ('scaler', StandardScaler()),\n",
        "    ('linear_svc', LinearSVC(C = 1, loss = 'hinge')) # C é o hiperparâmetro que nos permite controlar a largura e as violações de margem\n",
        "])"
      ],
      "metadata": {
        "id": "TQDC5gTZVAnh"
      },
      "execution_count": 5,
      "outputs": []
    },
    {
      "cell_type": "code",
      "source": [
        "svm_clf.fit(X, y) # treinado o classificador"
      ],
      "metadata": {
        "colab": {
          "base_uri": "https://localhost:8080/"
        },
        "id": "EO3tOvb7VXZf",
        "outputId": "0a968641-b2c8-46e0-a1db-aeb57e872fff"
      },
      "execution_count": 6,
      "outputs": [
        {
          "output_type": "execute_result",
          "data": {
            "text/plain": [
              "Pipeline(steps=[('scaler', StandardScaler()),\n",
              "                ('linear_svc', LinearSVC(C=1, loss='hinge'))])"
            ]
          },
          "metadata": {},
          "execution_count": 6
        }
      ]
    },
    {
      "cell_type": "code",
      "source": [
        "svm_clf.predict([[5.5, 1.7]])"
      ],
      "metadata": {
        "colab": {
          "base_uri": "https://localhost:8080/"
        },
        "id": "yNxVvHgKV__h",
        "outputId": "4cdf0a75-bea9-4536-e597-5e9d2e2ee9ea"
      },
      "execution_count": 7,
      "outputs": [
        {
          "output_type": "execute_result",
          "data": {
            "text/plain": [
              "array([1])"
            ]
          },
          "metadata": {},
          "execution_count": 7
        }
      ]
    },
    {
      "cell_type": "code",
      "source": [
        "svm_predict = svm_clf.predict(X)\n",
        "accuracy_score(y, svm_predict) "
      ],
      "metadata": {
        "colab": {
          "base_uri": "https://localhost:8080/"
        },
        "id": "vNubsNSOYrpX",
        "outputId": "3809843f-e39e-404f-b86c-cae497b87711"
      },
      "execution_count": 8,
      "outputs": [
        {
          "output_type": "execute_result",
          "data": {
            "text/plain": [
              "0.9533333333333334"
            ]
          },
          "metadata": {},
          "execution_count": 8
        }
      ]
    },
    {
      "cell_type": "markdown",
      "source": [
        "aparentemente o svm teve um bom desempenho, mas é importante ressaltar que isso não nos garante muita coisa, visto que não separamos os dados teste nem de validação. Em outras palavras, o sistema pode ter se sobreajustados aos dados de treinamento.\n",
        "É necessário mais análises"
      ],
      "metadata": {
        "id": "At62kz64ZKLd"
      }
    },
    {
      "cell_type": "markdown",
      "source": [
        "# usando moons dataset"
      ],
      "metadata": {
        "id": "UoSJFfdJdId0"
      }
    },
    {
      "cell_type": "code",
      "source": [
        "from sklearn.datasets import make_moons\n",
        "from sklearn.preprocessing import PolynomialFeatures\n",
        "from sklearn.svm import SVC"
      ],
      "metadata": {
        "id": "0wWN9Pk9dMCA"
      },
      "execution_count": 9,
      "outputs": []
    },
    {
      "cell_type": "markdown",
      "source": [
        "criando uma pipeline para o preprocessamento e classificação "
      ],
      "metadata": {
        "id": "u23WR1Pwdjpw"
      }
    },
    {
      "cell_type": "code",
      "source": [
        "X_moon, y_moon = make_moons(n_samples = 100, noise = 0.15)\n",
        "poly_svm_clf = Pipeline([\n",
        "    ('poly_features', PolynomialFeatures(degree = 3,)),\n",
        "    ('scaler', StandardScaler()),\n",
        "    ('svm_clf', LinearSVC(C = 10, loss = 'hinge'))\n",
        "])"
      ],
      "metadata": {
        "id": "revp9JGIdgMG"
      },
      "execution_count": 10,
      "outputs": []
    },
    {
      "cell_type": "code",
      "source": [
        "poly_svm_clf.fit(X_moon, y_moon)"
      ],
      "metadata": {
        "colab": {
          "base_uri": "https://localhost:8080/"
        },
        "id": "Z-pR1nhzeNiO",
        "outputId": "cee23f4b-91b8-42cb-adac-e14509ff41b0"
      },
      "execution_count": 11,
      "outputs": [
        {
          "output_type": "stream",
          "name": "stderr",
          "text": [
            "/usr/local/lib/python3.8/dist-packages/sklearn/svm/_base.py:1206: ConvergenceWarning: Liblinear failed to converge, increase the number of iterations.\n",
            "  warnings.warn(\n"
          ]
        },
        {
          "output_type": "execute_result",
          "data": {
            "text/plain": [
              "Pipeline(steps=[('poly_features', PolynomialFeatures(degree=3)),\n",
              "                ('scaler', StandardScaler()),\n",
              "                ('svm_clf', LinearSVC(C=10, loss='hinge'))])"
            ]
          },
          "metadata": {},
          "execution_count": 11
        }
      ]
    },
    {
      "cell_type": "code",
      "source": [
        "poly_predict = poly_svm_clf.predict(X_moon)\n",
        "poly_predict.shape"
      ],
      "metadata": {
        "colab": {
          "base_uri": "https://localhost:8080/"
        },
        "id": "ef1fXpHnerOR",
        "outputId": "9aa13486-7062-42b7-ef42-3ec5d5c65dc8"
      },
      "execution_count": 12,
      "outputs": [
        {
          "output_type": "execute_result",
          "data": {
            "text/plain": [
              "(100,)"
            ]
          },
          "metadata": {},
          "execution_count": 12
        }
      ]
    },
    {
      "cell_type": "code",
      "source": [
        "accuracy_score(y_moon, poly_predict)"
      ],
      "metadata": {
        "colab": {
          "base_uri": "https://localhost:8080/"
        },
        "id": "igCKnIogewh5",
        "outputId": "db82d0ea-311f-429c-91c7-d68eb4ca0260"
      },
      "execution_count": 13,
      "outputs": [
        {
          "output_type": "execute_result",
          "data": {
            "text/plain": [
              "0.99"
            ]
          },
          "metadata": {},
          "execution_count": 13
        }
      ]
    },
    {
      "cell_type": "markdown",
      "source": [
        "Podemos usar o svm com kernel polinomial, pois não sofrerá com a explosão combinatória do número de features."
      ],
      "metadata": {
        "id": "XSnNnvQqgbg9"
      }
    },
    {
      "cell_type": "code",
      "source": [
        "poly_kernel_svm_clf = Pipeline([\n",
        "    ('sclaer', StandardScaler()),\n",
        "    ('svm_kernel_poly', SVC(kernel = 'poly', degree = 3, coef0 = 1,  C = 5))\n",
        "])"
      ],
      "metadata": {
        "id": "MHSaN3o6foNj"
      },
      "execution_count": 14,
      "outputs": []
    },
    {
      "cell_type": "code",
      "source": [
        "poly_kernel_svm_clf.fit(X_moon, y_moon)"
      ],
      "metadata": {
        "colab": {
          "base_uri": "https://localhost:8080/"
        },
        "id": "jmvXyqDhhenu",
        "outputId": "810ece67-dba9-453d-ca71-d5e07263dabf"
      },
      "execution_count": 15,
      "outputs": [
        {
          "output_type": "execute_result",
          "data": {
            "text/plain": [
              "Pipeline(steps=[('sclaer', StandardScaler()),\n",
              "                ('svm_kernel_poly', SVC(C=5, coef0=1, kernel='poly'))])"
            ]
          },
          "metadata": {},
          "execution_count": 15
        }
      ]
    },
    {
      "cell_type": "code",
      "source": [
        "kernel_poly_predict = poly_kernel_svm_clf.predict(X_moon)\n",
        "accuracy_score(y_moon, kernel_poly_predict) #+ ótimo desempenho, mas lembre-se que estamos utilizando o conjuto todo para treinamento e isso não é a melhor opção."
      ],
      "metadata": {
        "colab": {
          "base_uri": "https://localhost:8080/"
        },
        "id": "WdxExhGzhj2R",
        "outputId": "18928774-c95f-4c39-8165-fbe6a9d7ec26"
      },
      "execution_count": 16,
      "outputs": [
        {
          "output_type": "execute_result",
          "data": {
            "text/plain": [
              "0.98"
            ]
          },
          "metadata": {},
          "execution_count": 16
        }
      ]
    },
    {
      "cell_type": "markdown",
      "source": [
        "usando o kernel RBF "
      ],
      "metadata": {
        "id": "Xen_BzPV6uWu"
      }
    },
    {
      "cell_type": "code",
      "source": [
        "rbf_svm_clf = Pipeline([\n",
        "    ('scaler', StandardScaler()),\n",
        "    ('rbf_clf', SVC(kernel = 'rbf',gamma = 5, C = 0.001))\n",
        "])"
      ],
      "metadata": {
        "id": "kt8EAJkPixPW"
      },
      "execution_count": 17,
      "outputs": []
    },
    {
      "cell_type": "code",
      "source": [
        "rbf_svm_clf.fit(X_moon, y_moon)\n",
        "rbf_predict = rbf_svm_clf.predict(X_moon)\n",
        "accuracy_score(y_moon, rbf_predict)"
      ],
      "metadata": {
        "colab": {
          "base_uri": "https://localhost:8080/"
        },
        "id": "YunkE3ru8Q34",
        "outputId": "02a3d9ef-59f1-4b77-989d-400bd75ad0c1"
      },
      "execution_count": 18,
      "outputs": [
        {
          "output_type": "execute_result",
          "data": {
            "text/plain": [
              "0.98"
            ]
          },
          "metadata": {},
          "execution_count": 18
        }
      ]
    },
    {
      "cell_type": "code",
      "source": [
        "from sklearn.svm import LinearSVR, SVR # svm para regressão"
      ],
      "metadata": {
        "id": "JHBt9zDa8hiM"
      },
      "execution_count": 35,
      "outputs": []
    },
    {
      "cell_type": "code",
      "source": [
        "svm_reg = Pipeline([\n",
        "    ('scaler', StandardScaler()),\n",
        "    ('svn_regression', LinearSVR(epsilon = 1.5))\n",
        "])"
      ],
      "metadata": {
        "id": "MbrMTnTFBhGk"
      },
      "execution_count": 32,
      "outputs": []
    },
    {
      "cell_type": "code",
      "source": [
        "svm_reg.fit(X_moon, y_moon)"
      ],
      "metadata": {
        "colab": {
          "base_uri": "https://localhost:8080/"
        },
        "id": "rk4x4TpYBy2g",
        "outputId": "b5f276b7-0f8a-4f23-ea3d-6bb5448a2dc9"
      },
      "execution_count": 33,
      "outputs": [
        {
          "output_type": "execute_result",
          "data": {
            "text/plain": [
              "Pipeline(steps=[('scaler', StandardScaler()),\n",
              "                ('svn_regression', LinearSVR(epsilon=1.5))])"
            ]
          },
          "metadata": {},
          "execution_count": 33
        }
      ]
    }
  ]
}